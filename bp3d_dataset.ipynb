{
 "cells": [
  {
   "cell_type": "markdown",
   "id": "e7739ee6-05a5-4e41-acc6-9495e1ea4f19",
   "metadata": {},
   "source": [
    "# BP3D Dataset EDA\n",
    "## DSE-260 Group2\n",
    "### Imports"
   ]
  },
  {
   "cell_type": "code",
   "execution_count": 1,
   "id": "2e05c42b-c3fd-46a0-b497-0f21d6c82617",
   "metadata": {},
   "outputs": [],
   "source": [
    "import bp3d\n",
    "import numpy as np\n",
    "import matplotlib.pyplot as plt"
   ]
  },
  {
   "cell_type": "markdown",
   "id": "3329c74b-02eb-4ea8-ab64-4e20b79adfae",
   "metadata": {},
   "source": [
    "### Load Data"
   ]
  },
  {
   "cell_type": "code",
   "execution_count": 2,
   "id": "9c2c9776-90db-48f8-8cec-f6fe7dc8aa5d",
   "metadata": {},
   "outputs": [
    {
     "name": "stdout",
     "output_type": "stream",
     "text": [
      "replacing ignite.dat with 2aaca8d8-6a4c-484a-a254-862dfdf8b1ad\n",
      "replacing ignite.dat with 6386cd23-43d0-4cd7-b203-ba5faa2d2e01\n",
      "replacing ignite.dat with ee35fcee-9f4a-4082-aaef-9193f7f54faf\n",
      "replacing ignite.dat with 72d6423a-8b6e-418e-af40-c20d54c6a85f\n",
      "replacing ignite.dat with 97f37e45-dff8-4bf8-99ef-9ef345da6a15\n",
      "Save ensemble to replace ignition file contents with new ids.\n"
     ]
    }
   ],
   "source": [
    "c = bp3d.Client(url='https://burnpro3d.sdsc.edu/api')\n",
    "ens = c.load_ensemble('uniform-pgml-success.bp3d.json')\n",
    "out = ens.output()\n",
    "# fuel_array = []\n",
    "# windu_array = []\n",
    "# windv_array = []\n",
    "# windw_array = []\n",
    "# moisture_array = []"
   ]
  },
  {
   "cell_type": "code",
   "execution_count": 3,
   "id": "ed6713ed-ac71-4c60-9678-c8689fdb596c",
   "metadata": {},
   "outputs": [],
   "source": [
    "# %%time\n",
    "\n",
    "# fuel_array=[]\n",
    "# windu_array=[]\n",
    "# windv_array=[]\n",
    "# windw_array=[]\n",
    "# moisture_array=[]\n",
    "# for i in range(1):\n",
    "#     print('Started iteration:', i)\n",
    "#     fuel_array.append(np.array(out[i].zarr['fuels-dens']))\n",
    "#     windu_array.append(np.array(out[i].zarr['windu']))\n",
    "#     windv_array.append(np.array(out[i].zarr['windv']))\n",
    "#     windw_array.append(np.array(out[i].zarr['windw']))\n",
    "#     # moisture_array.append(np.array(out[i].zarr['fuels-moisture']))\n",
    "#     print('Finished iteration:', i)\n"
   ]
  },
  {
   "cell_type": "markdown",
   "id": "0613df6f-51b3-4639-9a9c-78e1fea5955f",
   "metadata": {},
   "source": [
    "### Explore Data"
   ]
  },
  {
   "cell_type": "code",
   "execution_count": 4,
   "id": "e6b2daeb-c220-4c79-8d55-aa4b1ca15f9d",
   "metadata": {},
   "outputs": [],
   "source": [
    "# fuel=np.stack(fuel_array,axis=0)\n",
    "# moisture=np.stack(moisture_array,axis=0)\n",
    "#windu=np.stack(windu_array,axis=0)\n",
    "#windv=np.stack(windv_array,axis=0)\n",
    "#windw=np.stack(windw_array,axis=0)\n",
    "# np.save(\"fuel.txt\",fuel)\n",
    "# np.save(\"moisture.txt,moisture)\n",
    "#np.save(\"windu.txt\",windu)\n",
    "#np.save(\"windv.txt\",windu)\n",
    "#np.save(\"windw.txt\",windw)"
   ]
  },
  {
   "cell_type": "code",
   "execution_count": 5,
   "id": "5e56db2f-60ae-4847-b6be-9fa10d25945e",
   "metadata": {},
   "outputs": [
    {
     "data": {
      "application/vnd.jupyter.widget-view+json": {
       "model_id": "6ee43d200f8f4a7782654f66414b288e",
       "version_major": 2,
       "version_minor": 0
      },
      "text/plain": [
       "Tree(nodes=(Node(disabled=True, name='/', nodes=(Node(disabled=True, icon='table', name='fire-energy_to_atmos …"
      ]
     },
     "execution_count": 5,
     "metadata": {},
     "output_type": "execute_result"
    }
   ],
   "source": [
    "# lets look at ensemble # 1 [0]:\n",
    "out[0].zarr.tree()"
   ]
  },
  {
   "cell_type": "markdown",
   "id": "30365e2b",
   "metadata": {},
   "source": [
    "#### We can see that the ensemble contains 8 arrays of different data:\n",
    "- Fire Energy to Atmosphere\n",
    "- Fuel Density\n",
    "- Fuel Moisture\n",
    "- Surf Energy\n",
    "- Topography\n",
    "- 3 directions of the Wind Speed"
   ]
  },
  {
   "cell_type": "code",
   "execution_count": null,
   "id": "6c845853",
   "metadata": {},
   "outputs": [],
   "source": []
  }
 ],
 "metadata": {
  "kernelspec": {
   "display_name": "Python 3 (ipykernel)",
   "language": "python",
   "name": "python3"
  },
  "language_info": {
   "codemirror_mode": {
    "name": "ipython",
    "version": 3
   },
   "file_extension": ".py",
   "mimetype": "text/x-python",
   "name": "python",
   "nbconvert_exporter": "python",
   "pygments_lexer": "ipython3",
   "version": "3.9.13"
  }
 },
 "nbformat": 4,
 "nbformat_minor": 5
}

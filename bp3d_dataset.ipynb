{
 "cells": [
  {
   "cell_type": "markdown",
   "id": "e7739ee6-05a5-4e41-acc6-9495e1ea4f19",
   "metadata": {},
   "source": [
    "# BP3D Dataset EDA\n",
    "## DSE-260 Group2\n",
    "Reference: https://github.com/OAAS-BEAR/WildFire-Project\n",
    "### Imports"
   ]
  },
  {
   "cell_type": "code",
   "execution_count": 1,
   "id": "2e05c42b-c3fd-46a0-b497-0f21d6c82617",
   "metadata": {},
   "outputs": [],
   "source": [
    "import bp3d\n",
    "import numpy as np\n",
    "import matplotlib.pyplot as plt"
   ]
  },
  {
   "cell_type": "markdown",
   "id": "3329c74b-02eb-4ea8-ab64-4e20b79adfae",
   "metadata": {},
   "source": [
    "### Load Data"
   ]
  },
  {
   "cell_type": "code",
   "execution_count": 2,
   "id": "9c2c9776-90db-48f8-8cec-f6fe7dc8aa5d",
   "metadata": {},
   "outputs": [
    {
     "name": "stdout",
     "output_type": "stream",
     "text": [
      "replacing ignite.dat with 634fbd7a-9336-4d31-a40e-39d2f12856a4\n",
      "replacing ignite.dat with 37ed00f4-9578-493e-8b80-a5360daec896\n",
      "replacing ignite.dat with dd0683cb-ca0e-4b03-ad93-8cffec6a8852\n",
      "replacing ignite.dat with 63c02542-0e20-4de4-8e7d-ee0b8f32f100\n",
      "replacing ignite.dat with 71dc1f46-19cd-4489-beef-453ea485c675\n",
      "Save ensemble to replace ignition file contents with new ids.\n"
     ]
    }
   ],
   "source": [
    "c = bp3d.Client(url='https://burnpro3d.sdsc.edu/api')\n",
    "ens = c.load_ensemble('uniform-pgml-success.bp3d.json')\n",
    "out = ens.output()\n",
    "\n",
    "# get size of the data\n",
    "# sum([(out[x].zarr.store.getsize()) for x in range(1, len(out))])"
   ]
  },
  {
   "cell_type": "markdown",
   "id": "0613df6f-51b3-4639-9a9c-78e1fea5955f",
   "metadata": {},
   "source": [
    "### Explore Data"
   ]
  },
  {
   "cell_type": "code",
   "execution_count": 3,
   "id": "5e56db2f-60ae-4847-b6be-9fa10d25945e",
   "metadata": {},
   "outputs": [
    {
     "data": {
      "application/vnd.jupyter.widget-view+json": {
       "model_id": "229eaf6b705d4d6083b6a5371f18b5c6",
       "version_major": 2,
       "version_minor": 0
      },
      "text/plain": [
       "Tree(nodes=(Node(disabled=True, name='/', nodes=(Node(disabled=True, icon='table', name='fire-energy_to_atmos …"
      ]
     },
     "execution_count": 3,
     "metadata": {},
     "output_type": "execute_result"
    }
   ],
   "source": [
    "# lets look at ensemble # 3 [2]:\n",
    "out[2].zarr.tree()"
   ]
  },
  {
   "cell_type": "markdown",
   "id": "30365e2b",
   "metadata": {},
   "source": [
    "#### We can see that the ensemble contains 8 arrays of different data:\n",
    "- Fire Energy to Atmosphere\n",
    "- Fuel Density\n",
    "- Fuel Moisture\n",
    "- Surf Energy\n",
    "- Topography\n",
    "- 3 directions of the Wind Speed"
   ]
  },
  {
   "cell_type": "markdown",
   "id": "2b437fe1",
   "metadata": {},
   "source": [
    "### Explore the Topography feature"
   ]
  },
  {
   "cell_type": "code",
   "execution_count": 5,
   "id": "df93de01",
   "metadata": {},
   "outputs": [],
   "source": [
    "topography = out[1].zarr['topography']"
   ]
  },
  {
   "cell_type": "code",
   "execution_count": 6,
   "id": "bfa166c9",
   "metadata": {},
   "outputs": [
    {
     "name": "stdout",
     "output_type": "stream",
     "text": [
      "Shape: (300, 300)\n"
     ]
    }
   ],
   "source": [
    "print('Shape:', topography.shape)"
   ]
  },
  {
   "cell_type": "code",
   "execution_count": 7,
   "id": "d1f6eca0",
   "metadata": {},
   "outputs": [],
   "source": [
    "topography = np.array(topography)"
   ]
  },
  {
   "cell_type": "code",
   "execution_count": 8,
   "id": "821c5045",
   "metadata": {},
   "outputs": [
    {
     "data": {
      "text/plain": [
       "array([[0., 0., 0., ..., 0., 0., 0.],\n",
       "       [0., 0., 0., ..., 0., 0., 0.],\n",
       "       [0., 0., 0., ..., 0., 0., 0.],\n",
       "       ...,\n",
       "       [0., 0., 0., ..., 0., 0., 0.],\n",
       "       [0., 0., 0., ..., 0., 0., 0.],\n",
       "       [0., 0., 0., ..., 0., 0., 0.]], dtype=float16)"
      ]
     },
     "execution_count": 8,
     "metadata": {},
     "output_type": "execute_result"
    }
   ],
   "source": [
    "topography"
   ]
  },
  {
   "cell_type": "code",
   "execution_count": 9,
   "id": "91774c0e",
   "metadata": {},
   "outputs": [
    {
     "data": {
      "text/plain": [
       "0.0"
      ]
     },
     "execution_count": 9,
     "metadata": {},
     "output_type": "execute_result"
    }
   ],
   "source": [
    "topography.std()"
   ]
  },
  {
   "cell_type": "code",
   "execution_count": 10,
   "id": "956879aa",
   "metadata": {},
   "outputs": [
    {
     "data": {
      "text/plain": [
       "0.0"
      ]
     },
     "execution_count": 10,
     "metadata": {},
     "output_type": "execute_result"
    }
   ],
   "source": [
    "topography.mean()"
   ]
  },
  {
   "cell_type": "markdown",
   "id": "b8a7a8aa",
   "metadata": {},
   "source": [
    "### Explore the Wind feature (one of the dimensions - wind_u)"
   ]
  },
  {
   "cell_type": "code",
   "execution_count": 12,
   "id": "62cdb8a1",
   "metadata": {},
   "outputs": [],
   "source": [
    "windu = np.array(out[1].zarr['windu'])"
   ]
  },
  {
   "cell_type": "code",
   "execution_count": 13,
   "id": "e82ea5b1",
   "metadata": {},
   "outputs": [
    {
     "data": {
      "text/plain": [
       "array([[[[0.    , 0.    , 0.    , ..., 0.    , 0.    , 0.    ],\n",
       "         [0.    , 0.    , 0.    , ..., 0.    , 0.    , 0.    ],\n",
       "         [0.    , 0.    , 0.    , ..., 0.    , 0.    , 0.    ],\n",
       "         ...,\n",
       "         [0.    , 0.    , 0.    , ..., 0.    , 0.    , 0.    ],\n",
       "         [0.    , 0.    , 0.    , ..., 0.    , 0.    , 0.    ],\n",
       "         [0.    , 0.    , 0.    , ..., 0.    , 0.    , 0.    ]]],\n",
       "\n",
       "\n",
       "       [[[0.436 , 0.436 , 0.436 , ..., 0.436 , 0.436 , 0.436 ],\n",
       "         [0.3867, 0.3374, 0.3374, ..., 0.3374, 0.3867, 0.436 ],\n",
       "         [0.3867, 0.3374, 0.3374, ..., 0.3374, 0.3867, 0.436 ],\n",
       "         ...,\n",
       "         [0.3867, 0.3374, 0.3374, ..., 0.3374, 0.3867, 0.436 ],\n",
       "         [0.3867, 0.3374, 0.3374, ..., 0.3374, 0.3867, 0.436 ],\n",
       "         [0.436 , 0.436 , 0.436 , ..., 0.436 , 0.436 , 0.436 ]]],\n",
       "\n",
       "\n",
       "       [[[0.436 , 0.436 , 0.436 , ..., 0.4382, 0.436 , 0.4333],\n",
       "         [0.3867, 0.3374, 0.3374, ..., 0.3484, 0.3865, 0.424 ],\n",
       "         [0.3867, 0.3374, 0.3374, ..., 0.35  , 0.3865, 0.422 ],\n",
       "         ...,\n",
       "         [0.3894, 0.3398, 0.3384, ..., 0.3494, 0.384 , 0.4192],\n",
       "         [0.3965, 0.347 , 0.3396, ..., 0.3462, 0.377 , 0.414 ],\n",
       "         [0.4385, 0.4385, 0.437 , ..., 0.4373, 0.4336, 0.4307]]],\n",
       "\n",
       "\n",
       "       ...,\n",
       "\n",
       "\n",
       "       [[[0.436 , 0.436 , 0.436 , ..., 0.4382, 0.436 , 0.4333],\n",
       "         [0.3867, 0.3374, 0.3374, ..., 0.3484, 0.3865, 0.424 ],\n",
       "         [0.3867, 0.3374, 0.3374, ..., 0.35  , 0.3865, 0.422 ],\n",
       "         ...,\n",
       "         [0.3894, 0.3398, 0.3384, ..., 0.3494, 0.384 , 0.4192],\n",
       "         [0.3965, 0.347 , 0.3396, ..., 0.3462, 0.377 , 0.414 ],\n",
       "         [0.4385, 0.4385, 0.437 , ..., 0.4373, 0.4336, 0.4307]]],\n",
       "\n",
       "\n",
       "       [[[0.436 , 0.436 , 0.436 , ..., 0.4382, 0.436 , 0.4333],\n",
       "         [0.3867, 0.3374, 0.3374, ..., 0.3484, 0.3865, 0.424 ],\n",
       "         [0.3867, 0.3374, 0.3374, ..., 0.35  , 0.3865, 0.422 ],\n",
       "         ...,\n",
       "         [0.3894, 0.3398, 0.3384, ..., 0.3494, 0.384 , 0.4192],\n",
       "         [0.3965, 0.347 , 0.3396, ..., 0.3462, 0.377 , 0.414 ],\n",
       "         [0.4385, 0.4385, 0.437 , ..., 0.4373, 0.4336, 0.4307]]],\n",
       "\n",
       "\n",
       "       [[[0.436 , 0.436 , 0.436 , ..., 0.4382, 0.436 , 0.4333],\n",
       "         [0.3867, 0.3374, 0.3374, ..., 0.3484, 0.3865, 0.424 ],\n",
       "         [0.3867, 0.3374, 0.3374, ..., 0.35  , 0.3865, 0.422 ],\n",
       "         ...,\n",
       "         [0.3894, 0.3398, 0.3384, ..., 0.3494, 0.384 , 0.4192],\n",
       "         [0.3965, 0.347 , 0.3396, ..., 0.3462, 0.377 , 0.414 ],\n",
       "         [0.4385, 0.4385, 0.437 , ..., 0.4373, 0.4336, 0.4307]]]],\n",
       "      dtype=float16)"
      ]
     },
     "execution_count": 13,
     "metadata": {},
     "output_type": "execute_result"
    }
   ],
   "source": [
    "windu"
   ]
  },
  {
   "cell_type": "code",
   "execution_count": 14,
   "id": "18beb340",
   "metadata": {},
   "outputs": [
    {
     "data": {
      "text/plain": [
       "0.344"
      ]
     },
     "execution_count": 14,
     "metadata": {},
     "output_type": "execute_result"
    }
   ],
   "source": [
    "windu.mean()"
   ]
  },
  {
   "cell_type": "code",
   "execution_count": 15,
   "id": "4c76b8ae",
   "metadata": {},
   "outputs": [
    {
     "data": {
      "text/plain": [
       "0.01056"
      ]
     },
     "execution_count": 15,
     "metadata": {},
     "output_type": "execute_result"
    }
   ],
   "source": [
    "windu[1,:,:,:].std()"
   ]
  },
  {
   "cell_type": "code",
   "execution_count": 16,
   "id": "1b10010f",
   "metadata": {},
   "outputs": [
    {
     "data": {
      "text/plain": [
       "37.25"
      ]
     },
     "execution_count": 16,
     "metadata": {},
     "output_type": "execute_result"
    }
   ],
   "source": [
    "windu.max()"
   ]
  },
  {
   "cell_type": "code",
   "execution_count": 17,
   "id": "7f6a4637",
   "metadata": {},
   "outputs": [
    {
     "data": {
      "text/plain": [
       "-59.94"
      ]
     },
     "execution_count": 17,
     "metadata": {},
     "output_type": "execute_result"
    }
   ],
   "source": [
    "windu.min()"
   ]
  },
  {
   "cell_type": "code",
   "execution_count": 18,
   "id": "e9ac8eee",
   "metadata": {},
   "outputs": [
    {
     "data": {
      "text/plain": [
       "Text(0, 0.5, 'mean wind speed m/s')"
      ]
     },
     "execution_count": 18,
     "metadata": {},
     "output_type": "execute_result"
    },
    {
     "data": {
      "image/png": "[encoded data removed]",
      "text/plain": [
       "<Figure size 640x480 with 1 Axes>"
      ]
     },
     "metadata": {},
     "output_type": "display_data"
    }
   ],
   "source": [
    "windu_mean_over_time = [ windu[x,0,:,:].mean() for x in range(601)]\n",
    "time = [x for x in range(601)]\n",
    "plt.plot(time, windu_mean_over_time)\n",
    "plt.title('Average wind at over time')\n",
    "plt.xlabel('time steps')\n",
    "plt.ylabel('mean wind speed m/s')\n",
    "# windu_mean_over_time"
   ]
  },
  {
   "cell_type": "markdown",
   "id": "fab2111e-dfa5-4ad5-aba0-596bf8107afc",
   "metadata": {},
   "source": [
    "### Explore the Fuel Moisture feature"
   ]
  },
  {
   "cell_type": "code",
   "execution_count": 20,
   "id": "b4ab99b3",
   "metadata": {
    "tags": []
   },
   "outputs": [],
   "source": [
    "fuels_moist = np.array(out[1].zarr['fuels-moist'])"
   ]
  },
  {
   "cell_type": "code",
   "execution_count": 21,
   "id": "68b92570-69b3-4c14-9aa9-15f22159041f",
   "metadata": {},
   "outputs": [
    {
     "data": {
      "text/plain": [
       "(601, 1, 300, 300)"
      ]
     },
     "execution_count": 21,
     "metadata": {},
     "output_type": "execute_result"
    }
   ],
   "source": [
    "fuels_moist.shape"
   ]
  },
  {
   "cell_type": "code",
   "execution_count": 22,
   "id": "b95aae28-b329-43b9-b1e0-9b20434465ea",
   "metadata": {},
   "outputs": [
    {
     "data": {
      "text/plain": [
       "array([[[[0.  , 0.  , 0.  , ..., 0.  , 0.  , 0.  ],\n",
       "         [0.  , 0.05, 0.05, ..., 0.05, 0.05, 0.  ],\n",
       "         [0.  , 0.05, 0.05, ..., 0.05, 0.05, 0.  ],\n",
       "         ...,\n",
       "         [0.  , 0.05, 0.05, ..., 0.05, 0.05, 0.  ],\n",
       "         [0.  , 0.05, 0.05, ..., 0.05, 0.05, 0.  ],\n",
       "         [0.  , 0.  , 0.  , ..., 0.  , 0.  , 0.  ]]],\n",
       "\n",
       "\n",
       "       [[[0.  , 0.  , 0.  , ..., 0.  , 0.  , 0.  ],\n",
       "         [0.  , 0.05, 0.05, ..., 0.05, 0.05, 0.  ],\n",
       "         [0.  , 0.05, 0.05, ..., 0.05, 0.05, 0.  ],\n",
       "         ...,\n",
       "         [0.  , 0.05, 0.05, ..., 0.05, 0.05, 0.  ],\n",
       "         [0.  , 0.05, 0.05, ..., 0.05, 0.05, 0.  ],\n",
       "         [0.  , 0.  , 0.  , ..., 0.  , 0.  , 0.  ]]],\n",
       "\n",
       "\n",
       "       [[[0.  , 0.  , 0.  , ..., 0.  , 0.  , 0.  ],\n",
       "         [0.  , 0.05, 0.05, ..., 0.05, 0.05, 0.  ],\n",
       "         [0.  , 0.05, 0.05, ..., 0.05, 0.05, 0.  ],\n",
       "         ...,\n",
       "         [0.  , 0.05, 0.05, ..., 0.05, 0.05, 0.  ],\n",
       "         [0.  , 0.05, 0.05, ..., 0.05, 0.05, 0.  ],\n",
       "         [0.  , 0.  , 0.  , ..., 0.  , 0.  , 0.  ]]],\n",
       "\n",
       "\n",
       "       ...,\n",
       "\n",
       "\n",
       "       [[[0.  , 0.  , 0.  , ..., 0.  , 0.  , 0.  ],\n",
       "         [0.  , 0.05, 0.05, ..., 0.05, 0.05, 0.  ],\n",
       "         [0.  , 0.05, 0.05, ..., 0.05, 0.05, 0.  ],\n",
       "         ...,\n",
       "         [0.  , 0.05, 0.05, ..., 0.05, 0.05, 0.  ],\n",
       "         [0.  , 0.05, 0.05, ..., 0.05, 0.05, 0.  ],\n",
       "         [0.  , 0.  , 0.  , ..., 0.  , 0.  , 0.  ]]],\n",
       "\n",
       "\n",
       "       [[[0.  , 0.  , 0.  , ..., 0.  , 0.  , 0.  ],\n",
       "         [0.  , 0.05, 0.05, ..., 0.05, 0.05, 0.  ],\n",
       "         [0.  , 0.05, 0.05, ..., 0.05, 0.05, 0.  ],\n",
       "         ...,\n",
       "         [0.  , 0.05, 0.05, ..., 0.05, 0.05, 0.  ],\n",
       "         [0.  , 0.05, 0.05, ..., 0.05, 0.05, 0.  ],\n",
       "         [0.  , 0.  , 0.  , ..., 0.  , 0.  , 0.  ]]],\n",
       "\n",
       "\n",
       "       [[[0.  , 0.  , 0.  , ..., 0.  , 0.  , 0.  ],\n",
       "         [0.  , 0.05, 0.05, ..., 0.05, 0.05, 0.  ],\n",
       "         [0.  , 0.05, 0.05, ..., 0.05, 0.05, 0.  ],\n",
       "         ...,\n",
       "         [0.  , 0.05, 0.05, ..., 0.05, 0.05, 0.  ],\n",
       "         [0.  , 0.05, 0.05, ..., 0.05, 0.05, 0.  ],\n",
       "         [0.  , 0.  , 0.  , ..., 0.  , 0.  , 0.  ]]]], dtype=float16)"
      ]
     },
     "execution_count": 22,
     "metadata": {},
     "output_type": "execute_result"
    }
   ],
   "source": [
    "fuels_moist"
   ]
  },
  {
   "cell_type": "code",
   "execution_count": 23,
   "id": "2632c2a9-1e5f-4f7d-9679-4a40f3515b7c",
   "metadata": {},
   "outputs": [
    {
     "data": {
      "text/plain": [
       "Text(0, 0.5, 'Fuels Moist')"
      ]
     },
     "execution_count": 23,
     "metadata": {},
     "output_type": "execute_result"
    },
    {
     "data": {
      "image/png": "[encoded data removed]",
      "text/plain": [
       "<Figure size 640x480 with 1 Axes>"
      ]
     },
     "metadata": {},
     "output_type": "display_data"
    }
   ],
   "source": [
    "fuels_moist_over_time = [ fuels_moist[x,0,:,:].mean() for x in range(601)]\n",
    "time = [x for x in range(601)]\n",
    "plt.plot(time, fuels_moist_over_time)\n",
    "plt.title('Fuels Moisture over Time')\n",
    "plt.xlabel('time steps')\n",
    "plt.ylabel('Fuels Moist')"
   ]
  },
  {
   "cell_type": "markdown",
   "id": "8a08b47d-7827-4da4-9a33-cfcd03840e6f",
   "metadata": {},
   "source": [
    "### Explore the Fire Energy to Atmosphere"
   ]
  },
  {
   "cell_type": "code",
   "execution_count": 24,
   "id": "32a4d281-0c4a-4cef-b7f1-e4f584ee719a",
   "metadata": {
    "tags": []
   },
   "outputs": [],
   "source": [
    "energy_to_atmos = np.array(out[1].zarr['fire-energy_to_atmos'])"
   ]
  },
  {
   "cell_type": "code",
   "execution_count": 25,
   "id": "95160938-c176-4056-8361-c10a91976626",
   "metadata": {},
   "outputs": [
    {
     "data": {
      "text/plain": [
       "(601, 1, 300, 300)"
      ]
     },
     "execution_count": 25,
     "metadata": {},
     "output_type": "execute_result"
    }
   ],
   "source": [
    "energy_to_atmos.shape"
   ]
  },
  {
   "cell_type": "code",
   "execution_count": 26,
   "id": "f12b8476-0536-4a3d-bf63-05c8a18a5eb9",
   "metadata": {},
   "outputs": [
    {
     "data": {
      "text/plain": [
       "array([[[[0., 0., 0., ..., 0., 0., 0.],\n",
       "         [0., 0., 0., ..., 0., 0., 0.],\n",
       "         [0., 0., 0., ..., 0., 0., 0.],\n",
       "         ...,\n",
       "         [0., 0., 0., ..., 0., 0., 0.],\n",
       "         [0., 0., 0., ..., 0., 0., 0.],\n",
       "         [0., 0., 0., ..., 0., 0., 0.]]],\n",
       "\n",
       "\n",
       "       [[[0., 0., 0., ..., 0., 0., 0.],\n",
       "         [0., 0., 0., ..., 0., 0., 0.],\n",
       "         [0., 0., 0., ..., 0., 0., 0.],\n",
       "         ...,\n",
       "         [0., 0., 0., ..., 0., 0., 0.],\n",
       "         [0., 0., 0., ..., 0., 0., 0.],\n",
       "         [0., 0., 0., ..., 0., 0., 0.]]],\n",
       "\n",
       "\n",
       "       [[[0., 0., 0., ..., 0., 0., 0.],\n",
       "         [0., 0., 0., ..., 0., 0., 0.],\n",
       "         [0., 0., 0., ..., 0., 0., 0.],\n",
       "         ...,\n",
       "         [0., 0., 0., ..., 0., 0., 0.],\n",
       "         [0., 0., 0., ..., 0., 0., 0.],\n",
       "         [0., 0., 0., ..., 0., 0., 0.]]],\n",
       "\n",
       "\n",
       "       ...,\n",
       "\n",
       "\n",
       "       [[[0., 0., 0., ..., 0., 0., 0.],\n",
       "         [0., 0., 0., ..., 0., 0., 0.],\n",
       "         [0., 0., 0., ..., 0., 0., 0.],\n",
       "         ...,\n",
       "         [0., 0., 0., ..., 0., 0., 0.],\n",
       "         [0., 0., 0., ..., 0., 0., 0.],\n",
       "         [0., 0., 0., ..., 0., 0., 0.]]],\n",
       "\n",
       "\n",
       "       [[[0., 0., 0., ..., 0., 0., 0.],\n",
       "         [0., 0., 0., ..., 0., 0., 0.],\n",
       "         [0., 0., 0., ..., 0., 0., 0.],\n",
       "         ...,\n",
       "         [0., 0., 0., ..., 0., 0., 0.],\n",
       "         [0., 0., 0., ..., 0., 0., 0.],\n",
       "         [0., 0., 0., ..., 0., 0., 0.]]],\n",
       "\n",
       "\n",
       "       [[[0., 0., 0., ..., 0., 0., 0.],\n",
       "         [0., 0., 0., ..., 0., 0., 0.],\n",
       "         [0., 0., 0., ..., 0., 0., 0.],\n",
       "         ...,\n",
       "         [0., 0., 0., ..., 0., 0., 0.],\n",
       "         [0., 0., 0., ..., 0., 0., 0.],\n",
       "         [0., 0., 0., ..., 0., 0., 0.]]]], dtype=float16)"
      ]
     },
     "execution_count": 26,
     "metadata": {},
     "output_type": "execute_result"
    }
   ],
   "source": [
    "energy_to_atmos"
   ]
  },
  {
   "cell_type": "code",
   "execution_count": 27,
   "id": "15254728-66bd-4cfa-a414-2bc5e6f13a8d",
   "metadata": {},
   "outputs": [
    {
     "data": {
      "text/plain": [
       "0.817"
      ]
     },
     "execution_count": 27,
     "metadata": {},
     "output_type": "execute_result"
    }
   ],
   "source": [
    "energy_to_atmos.mean()"
   ]
  },
  {
   "cell_type": "code",
   "execution_count": 28,
   "id": "b3ed82fa-f2be-4409-943a-1c366abebc78",
   "metadata": {},
   "outputs": [
    {
     "name": "stderr",
     "output_type": "stream",
     "text": [
      "C:\\Users\\d64105\\Desktop\\personal\\UCSD\\DSE260\\venv_bp3d\\lib\\site-packages\\numpy\\core\\_methods.py:215: RuntimeWarning: overflow encountered in reduce\n",
      "  arrmean = umr_sum(arr, axis, dtype, keepdims=True, where=where)\n"
     ]
    },
    {
     "data": {
      "text/plain": [
       "inf"
      ]
     },
     "execution_count": 28,
     "metadata": {},
     "output_type": "execute_result"
    }
   ],
   "source": [
    "energy_to_atmos.std()"
   ]
  },
  {
   "cell_type": "code",
   "execution_count": 36,
   "id": "884bf8d8-b6d6-4657-9869-16e2a7f669b2",
   "metadata": {},
   "outputs": [
    {
     "data": {
      "text/plain": [
       "Text(0, 0.5, 'Fire Energy')"
      ]
     },
     "execution_count": 36,
     "metadata": {},
     "output_type": "execute_result"
    },
    {
     "data": {
      "image/png": "[encoded data removed]",
      "text/plain": [
       "<Figure size 640x480 with 1 Axes>"
      ]
     },
     "metadata": {},
     "output_type": "display_data"
    }
   ],
   "source": [
    "energy_to_atmos_over_time = [ energy_to_atmos[x,0,:,:].mean() for x in range(601)]\n",
    "time = [x for x in range(601)]\n",
    "plt.plot(time, energy_to_atmos_over_time)\n",
    "plt.title('Fire Energy to Atmosphere over Time')\n",
    "plt.xlabel('time steps')\n",
    "plt.ylabel('Fire Energy')"
   ]
  },
  {
   "cell_type": "markdown",
   "id": "049bdeb8-6667-4862-98b8-e2e1048f30a0",
   "metadata": {},
   "source": [
    "### Explore the Surf Energy Feature"
   ]
  },
  {
   "cell_type": "code",
   "execution_count": 30,
   "id": "5bf5cad1-b04d-4194-ab43-f450dc579b1d",
   "metadata": {
    "tags": []
   },
   "outputs": [],
   "source": [
    "surf_energy = np.array(out[1].zarr['surfEnergy'])"
   ]
  },
  {
   "cell_type": "code",
   "execution_count": 31,
   "id": "6b789a97-963e-49ea-8559-91c3027972f1",
   "metadata": {},
   "outputs": [
    {
     "data": {
      "text/plain": [
       "(600, 1, 300, 300)"
      ]
     },
     "execution_count": 31,
     "metadata": {},
     "output_type": "execute_result"
    }
   ],
   "source": [
    "surf_energy.shape"
   ]
  },
  {
   "cell_type": "code",
   "execution_count": 32,
   "id": "4db94dc7-dbb4-4a0f-9171-02fe1b9797a1",
   "metadata": {},
   "outputs": [
    {
     "data": {
      "text/plain": [
       "array([[[[0., 0., 0., ..., 0., 0., 0.],\n",
       "         [0., 0., 0., ..., 0., 0., 0.],\n",
       "         [0., 0., 0., ..., 0., 0., 0.],\n",
       "         ...,\n",
       "         [0., 0., 0., ..., 0., 0., 0.],\n",
       "         [0., 0., 0., ..., 0., 0., 0.],\n",
       "         [0., 0., 0., ..., 0., 0., 0.]]],\n",
       "\n",
       "\n",
       "       [[[0., 0., 0., ..., 0., 0., 0.],\n",
       "         [0., 0., 0., ..., 0., 0., 0.],\n",
       "         [0., 0., 0., ..., 0., 0., 0.],\n",
       "         ...,\n",
       "         [0., 0., 0., ..., 0., 0., 0.],\n",
       "         [0., 0., 0., ..., 0., 0., 0.],\n",
       "         [0., 0., 0., ..., 0., 0., 0.]]],\n",
       "\n",
       "\n",
       "       [[[0., 0., 0., ..., 0., 0., 0.],\n",
       "         [0., 0., 0., ..., 0., 0., 0.],\n",
       "         [0., 0., 0., ..., 0., 0., 0.],\n",
       "         ...,\n",
       "         [0., 0., 0., ..., 0., 0., 0.],\n",
       "         [0., 0., 0., ..., 0., 0., 0.],\n",
       "         [0., 0., 0., ..., 0., 0., 0.]]],\n",
       "\n",
       "\n",
       "       ...,\n",
       "\n",
       "\n",
       "       [[[0., 0., 0., ..., 0., 0., 0.],\n",
       "         [0., 0., 0., ..., 0., 0., 0.],\n",
       "         [0., 0., 0., ..., 0., 0., 0.],\n",
       "         ...,\n",
       "         [0., 0., 0., ..., 0., 0., 0.],\n",
       "         [0., 0., 0., ..., 0., 0., 0.],\n",
       "         [0., 0., 0., ..., 0., 0., 0.]]],\n",
       "\n",
       "\n",
       "       [[[0., 0., 0., ..., 0., 0., 0.],\n",
       "         [0., 0., 0., ..., 0., 0., 0.],\n",
       "         [0., 0., 0., ..., 0., 0., 0.],\n",
       "         ...,\n",
       "         [0., 0., 0., ..., 0., 0., 0.],\n",
       "         [0., 0., 0., ..., 0., 0., 0.],\n",
       "         [0., 0., 0., ..., 0., 0., 0.]]],\n",
       "\n",
       "\n",
       "       [[[0., 0., 0., ..., 0., 0., 0.],\n",
       "         [0., 0., 0., ..., 0., 0., 0.],\n",
       "         [0., 0., 0., ..., 0., 0., 0.],\n",
       "         ...,\n",
       "         [0., 0., 0., ..., 0., 0., 0.],\n",
       "         [0., 0., 0., ..., 0., 0., 0.],\n",
       "         [0., 0., 0., ..., 0., 0., 0.]]]], dtype=float16)"
      ]
     },
     "execution_count": 32,
     "metadata": {},
     "output_type": "execute_result"
    }
   ],
   "source": [
    "surf_energy"
   ]
  },
  {
   "cell_type": "code",
   "execution_count": 33,
   "id": "a3b85e86-6918-4404-b00a-a03113a723e0",
   "metadata": {},
   "outputs": [
    {
     "data": {
      "text/plain": [
       "1.042"
      ]
     },
     "execution_count": 33,
     "metadata": {},
     "output_type": "execute_result"
    }
   ],
   "source": [
    "surf_energy.mean()"
   ]
  },
  {
   "cell_type": "code",
   "execution_count": 34,
   "id": "094bec6c-892d-4ac7-9c72-086c41327717",
   "metadata": {},
   "outputs": [
    {
     "data": {
      "text/plain": [
       "inf"
      ]
     },
     "execution_count": 34,
     "metadata": {},
     "output_type": "execute_result"
    }
   ],
   "source": [
    "surf_energy.std()"
   ]
  },
  {
   "cell_type": "code",
   "execution_count": 35,
   "id": "bbc402ff-5336-48e1-9c15-14d70587a59f",
   "metadata": {},
   "outputs": [
    {
     "data": {
      "text/plain": [
       "Text(0, 0.5, 'Surf Energy')"
      ]
     },
     "execution_count": 35,
     "metadata": {},
     "output_type": "execute_result"
    },
    {
     "data": {
      "image/png": "[encoded data removed]",
      "text/plain": [
       "<Figure size 640x480 with 1 Axes>"
      ]
     },
     "metadata": {},
     "output_type": "display_data"
    }
   ],
   "source": [
    "surf_energy_over_time = [ surf_energy[x,0,:,:].mean() for x in range(600)]\n",
    "time = [x for x in range(600)]\n",
    "plt.plot(time, surf_energy_over_time)\n",
    "plt.title('Surf Energy over Time')\n",
    "plt.xlabel('time steps')\n",
    "plt.ylabel('Surf Energy')"
   ]
  },
  {
   "cell_type": "markdown",
   "id": "1b74c7cd-3141-4092-aa04-c1bfb936b5f2",
   "metadata": {},
   "source": [
    "### Explore the Fuel Density Feature"
   ]
  },
  {
   "cell_type": "code",
   "execution_count": 37,
   "id": "08da3efe-8bd3-42b9-90e1-f0d5e52a685f",
   "metadata": {
    "tags": []
   },
   "outputs": [],
   "source": [
    "fuels_dens = np.array(out[1].zarr['fuels-dens'])"
   ]
  },
  {
   "cell_type": "code",
   "execution_count": 38,
   "id": "9e3bd5b3-ebc5-4758-9272-e870e850d303",
   "metadata": {},
   "outputs": [
    {
     "data": {
      "text/plain": [
       "(601, 1, 300, 300)"
      ]
     },
     "execution_count": 38,
     "metadata": {},
     "output_type": "execute_result"
    }
   ],
   "source": [
    "fuels_dens.shape"
   ]
  },
  {
   "cell_type": "code",
   "execution_count": 39,
   "id": "40a04a5a-9da3-48a7-b20b-81ec1b84d3d5",
   "metadata": {},
   "outputs": [
    {
     "data": {
      "text/plain": [
       "array([[[[0. , 0. , 0. , ..., 0. , 0. , 0. ],\n",
       "         [0. , 0.7, 0.7, ..., 0.7, 0.7, 0. ],\n",
       "         [0. , 0.7, 0.7, ..., 0.7, 0.7, 0. ],\n",
       "         ...,\n",
       "         [0. , 0.7, 0.7, ..., 0.7, 0.7, 0. ],\n",
       "         [0. , 0.7, 0.7, ..., 0.7, 0.7, 0. ],\n",
       "         [0. , 0. , 0. , ..., 0. , 0. , 0. ]]],\n",
       "\n",
       "\n",
       "       [[[0. , 0. , 0. , ..., 0. , 0. , 0. ],\n",
       "         [0. , 0.7, 0.7, ..., 0.7, 0.7, 0. ],\n",
       "         [0. , 0.7, 0.7, ..., 0.7, 0.7, 0. ],\n",
       "         ...,\n",
       "         [0. , 0.7, 0.7, ..., 0.7, 0.7, 0. ],\n",
       "         [0. , 0.7, 0.7, ..., 0.7, 0.7, 0. ],\n",
       "         [0. , 0. , 0. , ..., 0. , 0. , 0. ]]],\n",
       "\n",
       "\n",
       "       [[[0. , 0. , 0. , ..., 0. , 0. , 0. ],\n",
       "         [0. , 0.7, 0.7, ..., 0.7, 0.7, 0. ],\n",
       "         [0. , 0.7, 0.7, ..., 0.7, 0.7, 0. ],\n",
       "         ...,\n",
       "         [0. , 0.7, 0.7, ..., 0.7, 0.7, 0. ],\n",
       "         [0. , 0.7, 0.7, ..., 0.7, 0.7, 0. ],\n",
       "         [0. , 0. , 0. , ..., 0. , 0. , 0. ]]],\n",
       "\n",
       "\n",
       "       ...,\n",
       "\n",
       "\n",
       "       [[[0. , 0. , 0. , ..., 0. , 0. , 0. ],\n",
       "         [0. , 0.7, 0.7, ..., 0.7, 0.7, 0. ],\n",
       "         [0. , 0.7, 0.7, ..., 0.7, 0.7, 0. ],\n",
       "         ...,\n",
       "         [0. , 0.7, 0.7, ..., 0.7, 0.7, 0. ],\n",
       "         [0. , 0.7, 0.7, ..., 0.7, 0.7, 0. ],\n",
       "         [0. , 0. , 0. , ..., 0. , 0. , 0. ]]],\n",
       "\n",
       "\n",
       "       [[[0. , 0. , 0. , ..., 0. , 0. , 0. ],\n",
       "         [0. , 0.7, 0.7, ..., 0.7, 0.7, 0. ],\n",
       "         [0. , 0.7, 0.7, ..., 0.7, 0.7, 0. ],\n",
       "         ...,\n",
       "         [0. , 0.7, 0.7, ..., 0.7, 0.7, 0. ],\n",
       "         [0. , 0.7, 0.7, ..., 0.7, 0.7, 0. ],\n",
       "         [0. , 0. , 0. , ..., 0. , 0. , 0. ]]],\n",
       "\n",
       "\n",
       "       [[[0. , 0. , 0. , ..., 0. , 0. , 0. ],\n",
       "         [0. , 0.7, 0.7, ..., 0.7, 0.7, 0. ],\n",
       "         [0. , 0.7, 0.7, ..., 0.7, 0.7, 0. ],\n",
       "         ...,\n",
       "         [0. , 0.7, 0.7, ..., 0.7, 0.7, 0. ],\n",
       "         [0. , 0.7, 0.7, ..., 0.7, 0.7, 0. ],\n",
       "         [0. , 0. , 0. , ..., 0. , 0. , 0. ]]]], dtype=float16)"
      ]
     },
     "execution_count": 39,
     "metadata": {},
     "output_type": "execute_result"
    }
   ],
   "source": [
    "fuels_dens"
   ]
  },
  {
   "cell_type": "code",
   "execution_count": 40,
   "id": "03e44144-5adc-440c-af7f-9d075e8a2421",
   "metadata": {},
   "outputs": [
    {
     "data": {
      "text/plain": [
       "0.6665"
      ]
     },
     "execution_count": 40,
     "metadata": {},
     "output_type": "execute_result"
    }
   ],
   "source": [
    "fuels_dens.mean()"
   ]
  },
  {
   "cell_type": "code",
   "execution_count": 41,
   "id": "6eea5d8e-5da5-42ed-a9a0-a81cc988ef60",
   "metadata": {},
   "outputs": [
    {
     "data": {
      "text/plain": [
       "inf"
      ]
     },
     "execution_count": 41,
     "metadata": {},
     "output_type": "execute_result"
    }
   ],
   "source": [
    "fuels_dens.std()"
   ]
  },
  {
   "cell_type": "code",
   "execution_count": 43,
   "id": "a169520f-4dac-48b9-bc03-156fa763e523",
   "metadata": {},
   "outputs": [
    {
     "data": {
      "text/plain": [
       "Text(0, 0.5, 'Fuel Density kg/m^3')"
      ]
     },
     "execution_count": 43,
     "metadata": {},
     "output_type": "execute_result"
    },
    {
     "data": {
      "image/png": "[encoded data removed]",
      "text/plain": [
       "<Figure size 640x480 with 1 Axes>"
      ]
     },
     "metadata": {},
     "output_type": "display_data"
    }
   ],
   "source": [
    "fuels_dens_over_time = [ fuels_dens[x,0,:,:].mean() for x in range(600)]\n",
    "time = [x for x in range(600)]\n",
    "plt.plot(time, fuels_dens_over_time)\n",
    "plt.title('Fuel Density over Time')\n",
    "plt.xlabel('time steps')\n",
    "plt.ylabel('Fuel Density kg/m^3')"
   ]
  },
  {
   "cell_type": "code",
   "execution_count": null,
   "id": "6b7659dc-afe7-49f5-a550-886a882d9939",
   "metadata": {},
   "outputs": [],
   "source": []
  }
 ],
 "metadata": {
  "kernelspec": {
   "display_name": "Python 3 (ipykernel)",
   "language": "python",
   "name": "python3"
  },
  "language_info": {
   "codemirror_mode": {
    "name": "ipython",
    "version": 3
   },
   "file_extension": ".py",
   "mimetype": "text/x-python",
   "name": "python",
   "nbconvert_exporter": "python",
   "pygments_lexer": "ipython3",
   "version": "3.9.13"
  }
 },
 "nbformat": 4,
 "nbformat_minor": 5
}

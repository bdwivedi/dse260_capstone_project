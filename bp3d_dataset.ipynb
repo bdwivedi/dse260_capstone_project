{
 "cells": [
  {
   "cell_type": "markdown",
   "id": "e7739ee6-05a5-4e41-acc6-9495e1ea4f19",
   "metadata": {},
   "source": [
    "# BP3D Dataset EDA\n",
    "## DSE-260 Group2\n",
    "### Imports"
   ]
  },
  {
   "cell_type": "code",
   "execution_count": 1,
   "id": "2e05c42b-c3fd-46a0-b497-0f21d6c82617",
   "metadata": {},
   "outputs": [],
   "source": [
    "import bp3d\n",
    "import numpy as np\n",
    "import matplotlib.pyplot as plt"
   ]
  },
  {
   "cell_type": "markdown",
   "id": "3329c74b-02eb-4ea8-ab64-4e20b79adfae",
   "metadata": {},
   "source": [
    "### Load Data"
   ]
  },
  {
   "cell_type": "code",
   "execution_count": 2,
   "id": "9c2c9776-90db-48f8-8cec-f6fe7dc8aa5d",
   "metadata": {},
   "outputs": [
    {
     "name": "stdout",
     "output_type": "stream",
     "text": [
      "replacing ignite.dat with 131dbf4b-c91e-4d1b-9d86-6399a5cf6883\n",
      "replacing ignite.dat with 0fde6cd8-eddd-432b-af23-a13f3b7db522\n",
      "replacing ignite.dat with 54a226df-1fbf-4cce-abe5-ceb4159cb37a\n",
      "replacing ignite.dat with 079c0597-e8a5-4e06-bcfd-2d8c23946a5f\n",
      "replacing ignite.dat with 92f12548-2416-4f18-9fd9-7fb9c78ceb7d\n",
      "Save ensemble to replace ignition file contents with new ids.\n"
     ]
    }
   ],
   "source": [
    "c = bp3d.Client(url='https://burnpro3d.sdsc.edu/api')\n",
    "ens = c.load_ensemble('uniform-pgml-success.bp3d.json')\n",
    "out = ens.output()"
   ]
  },
  {
   "cell_type": "code",
   "execution_count": 3,
   "id": "ed6713ed-ac71-4c60-9678-c8689fdb596c",
   "metadata": {},
   "outputs": [],
   "source": [
    "# %%time\n",
    "\n",
    "# fuel_array=[]\n",
    "# windu_array=[]\n",
    "# windv_array=[]\n",
    "# windw_array=[]\n",
    "# moisture_array=[]\n",
    "# for i in range(1):\n",
    "#     print('Started iteration:', i)\n",
    "#     fuel_array.append(np.array(out[i].zarr['fuels-dens']))\n",
    "#     windu_array.append(np.array(out[i].zarr['windu']))\n",
    "#     windv_array.append(np.array(out[i].zarr['windv']))\n",
    "#     windw_array.append(np.array(out[i].zarr['windw']))\n",
    "#     # moisture_array.append(np.array(out[i].zarr['fuels-moisture']))\n",
    "#     print('Finished iteration:', i)\n"
   ]
  },
  {
   "cell_type": "markdown",
   "id": "0613df6f-51b3-4639-9a9c-78e1fea5955f",
   "metadata": {},
   "source": [
    "### Explore Data"
   ]
  },
  {
   "cell_type": "code",
   "execution_count": 4,
   "id": "e6b2daeb-c220-4c79-8d55-aa4b1ca15f9d",
   "metadata": {},
   "outputs": [],
   "source": [
    "# fuel=np.stack(fuel_array,axis=0)\n",
    "# moisture=np.stack(moisture_array,axis=0)\n",
    "#windu=np.stack(windu_array,axis=0)\n",
    "#windv=np.stack(windv_array,axis=0)\n",
    "#windw=np.stack(windw_array,axis=0)\n",
    "# np.save(\"fuel.txt\",fuel)\n",
    "# np.save(\"moisture.txt,moisture)\n",
    "#np.save(\"windu.txt\",windu)\n",
    "#np.save(\"windv.txt\",windu)\n",
    "#np.save(\"windw.txt\",windw)"
   ]
  },
  {
   "cell_type": "code",
   "execution_count": 5,
   "id": "5e56db2f-60ae-4847-b6be-9fa10d25945e",
   "metadata": {},
   "outputs": [
    {
     "data": {
      "application/vnd.jupyter.widget-view+json": {
       "model_id": "e24f7489800b41a78bcdd8553342d871",
       "version_major": 2,
       "version_minor": 0
      },
      "text/plain": [
       "Tree(nodes=(Node(disabled=True, name='/', nodes=(Node(disabled=True, icon='table', name='fire-energy_to_atmos …"
      ]
     },
     "execution_count": 5,
     "metadata": {},
     "output_type": "execute_result"
    }
   ],
   "source": [
    "# lets look at ensemble # 1 [0]:\n",
    "out[1].zarr.tree()"
   ]
  },
  {
   "cell_type": "markdown",
   "id": "30365e2b",
   "metadata": {},
   "source": [
    "#### We can see that the ensemble contains 8 arrays of different data:\n",
    "- Fire Energy to Atmosphere\n",
    "- Fuel Density\n",
    "- Fuel Moisture\n",
    "- Surf Energy\n",
    "- Topography\n",
    "- 3 directions of the Wind Speed"
   ]
  },
  {
   "cell_type": "code",
   "execution_count": 6,
   "id": "6c845853",
   "metadata": {},
   "outputs": [],
   "source": [
    "# sum([(out[x].zarr.store.getsize()) for x in range(1, len(out))])"
   ]
  },
  {
   "cell_type": "code",
   "execution_count": 7,
   "id": "d8011f3b",
   "metadata": {},
   "outputs": [],
   "source": [
    "# len(out)"
   ]
  },
  {
   "cell_type": "code",
   "execution_count": 8,
   "id": "58a539e2",
   "metadata": {},
   "outputs": [],
   "source": [
    "# for i in range(1, len(out)):\n",
    "#     print(out[i].zarr.store.getsize())"
   ]
  },
  {
   "cell_type": "markdown",
   "id": "2b437fe1",
   "metadata": {},
   "source": [
    "### Explore the Topography feature"
   ]
  },
  {
   "cell_type": "code",
   "execution_count": 11,
   "id": "df93de01",
   "metadata": {},
   "outputs": [],
   "source": [
    "topography = out[2].zarr['topography']"
   ]
  },
  {
   "cell_type": "code",
   "execution_count": 13,
   "id": "bfa166c9",
   "metadata": {},
   "outputs": [
    {
     "name": "stdout",
     "output_type": "stream",
     "text": [
      "Shape: (300, 300)\n"
     ]
    }
   ],
   "source": [
    "print('Shape:', topography.shape)"
   ]
  },
  {
   "cell_type": "code",
   "execution_count": 16,
   "id": "d1f6eca0",
   "metadata": {},
   "outputs": [],
   "source": [
    "topography = np.array(topography)"
   ]
  },
  {
   "cell_type": "code",
   "execution_count": 17,
   "id": "821c5045",
   "metadata": {},
   "outputs": [
    {
     "data": {
      "text/plain": [
       "array([[0., 0., 0., ..., 0., 0., 0.],\n",
       "       [0., 0., 0., ..., 0., 0., 0.],\n",
       "       [0., 0., 0., ..., 0., 0., 0.],\n",
       "       ...,\n",
       "       [0., 0., 0., ..., 0., 0., 0.],\n",
       "       [0., 0., 0., ..., 0., 0., 0.],\n",
       "       [0., 0., 0., ..., 0., 0., 0.]], dtype=float16)"
      ]
     },
     "execution_count": 17,
     "metadata": {},
     "output_type": "execute_result"
    }
   ],
   "source": [
    "topography"
   ]
  },
  {
   "cell_type": "code",
   "execution_count": 18,
   "id": "91774c0e",
   "metadata": {},
   "outputs": [
    {
     "data": {
      "text/plain": [
       "0.0"
      ]
     },
     "execution_count": 18,
     "metadata": {},
     "output_type": "execute_result"
    }
   ],
   "source": [
    "topography.std()"
   ]
  },
  {
   "cell_type": "code",
   "execution_count": 19,
   "id": "956879aa",
   "metadata": {},
   "outputs": [
    {
     "data": {
      "text/plain": [
       "0.0"
      ]
     },
     "execution_count": 19,
     "metadata": {},
     "output_type": "execute_result"
    }
   ],
   "source": [
    "topography.mean()"
   ]
  },
  {
   "cell_type": "markdown",
   "id": "b8a7a8aa",
   "metadata": {},
   "source": [
    "### Explore the Wind feature (one of the dimensions - wind_u)"
   ]
  },
  {
   "cell_type": "code",
   "execution_count": 21,
   "id": "62cdb8a1",
   "metadata": {},
   "outputs": [],
   "source": [
    "windu = np.array(out[2].zarr['windu'])"
   ]
  },
  {
   "cell_type": "code",
   "execution_count": 22,
   "id": "e82ea5b1",
   "metadata": {},
   "outputs": [
    {
     "data": {
      "text/plain": [
       "array([[[[0.    , 0.    , 0.    , ..., 0.    , 0.    , 0.    ],\n",
       "         [0.    , 0.    , 0.    , ..., 0.    , 0.    , 0.    ],\n",
       "         [0.    , 0.    , 0.    , ..., 0.    , 0.    , 0.    ],\n",
       "         ...,\n",
       "         [0.    , 0.    , 0.    , ..., 0.    , 0.    , 0.    ],\n",
       "         [0.    , 0.    , 0.    , ..., 0.    , 0.    , 0.    ],\n",
       "         [0.    , 0.    , 0.    , ..., 0.    , 0.    , 0.    ]]],\n",
       "\n",
       "\n",
       "       [[[0.436 , 0.436 , 0.436 , ..., 0.436 , 0.436 , 0.436 ],\n",
       "         [0.3867, 0.3374, 0.3374, ..., 0.3374, 0.3867, 0.436 ],\n",
       "         [0.3867, 0.3374, 0.3374, ..., 0.3374, 0.3867, 0.436 ],\n",
       "         ...,\n",
       "         [0.3867, 0.3374, 0.3374, ..., 0.3374, 0.3867, 0.436 ],\n",
       "         [0.3867, 0.3374, 0.3374, ..., 0.3374, 0.3867, 0.436 ],\n",
       "         [0.436 , 0.436 , 0.436 , ..., 0.436 , 0.436 , 0.436 ]]],\n",
       "\n",
       "\n",
       "       [[[0.436 , 0.436 , 0.436 , ..., 0.4382, 0.436 , 0.4333],\n",
       "         [0.3867, 0.3374, 0.3374, ..., 0.3484, 0.3865, 0.424 ],\n",
       "         [0.3867, 0.3374, 0.3374, ..., 0.35  , 0.3865, 0.422 ],\n",
       "         ...,\n",
       "         [0.3894, 0.3398, 0.3384, ..., 0.3494, 0.384 , 0.4192],\n",
       "         [0.3965, 0.347 , 0.3396, ..., 0.3462, 0.377 , 0.414 ],\n",
       "         [0.4385, 0.4385, 0.437 , ..., 0.4373, 0.4336, 0.4307]]],\n",
       "\n",
       "\n",
       "       ...,\n",
       "\n",
       "\n",
       "       [[[0.436 , 0.436 , 0.436 , ..., 0.4382, 0.436 , 0.4333],\n",
       "         [0.3867, 0.3374, 0.3374, ..., 0.3484, 0.3865, 0.424 ],\n",
       "         [0.3867, 0.3374, 0.3374, ..., 0.35  , 0.3865, 0.422 ],\n",
       "         ...,\n",
       "         [0.3894, 0.3398, 0.3384, ..., 0.3494, 0.384 , 0.4192],\n",
       "         [0.3965, 0.347 , 0.3396, ..., 0.3462, 0.377 , 0.414 ],\n",
       "         [0.4385, 0.4385, 0.437 , ..., 0.4373, 0.4336, 0.4307]]],\n",
       "\n",
       "\n",
       "       [[[0.436 , 0.436 , 0.436 , ..., 0.4382, 0.436 , 0.4333],\n",
       "         [0.3867, 0.3374, 0.3374, ..., 0.3484, 0.3865, 0.424 ],\n",
       "         [0.3867, 0.3374, 0.3374, ..., 0.35  , 0.3865, 0.422 ],\n",
       "         ...,\n",
       "         [0.3894, 0.3398, 0.3384, ..., 0.3494, 0.384 , 0.4192],\n",
       "         [0.3965, 0.347 , 0.3396, ..., 0.3462, 0.377 , 0.414 ],\n",
       "         [0.4385, 0.4385, 0.437 , ..., 0.4373, 0.4336, 0.4307]]],\n",
       "\n",
       "\n",
       "       [[[0.436 , 0.436 , 0.436 , ..., 0.4382, 0.436 , 0.4333],\n",
       "         [0.3867, 0.3374, 0.3374, ..., 0.3484, 0.3865, 0.424 ],\n",
       "         [0.3867, 0.3374, 0.3374, ..., 0.35  , 0.3865, 0.422 ],\n",
       "         ...,\n",
       "         [0.3894, 0.3398, 0.3384, ..., 0.3494, 0.384 , 0.4192],\n",
       "         [0.3965, 0.347 , 0.3396, ..., 0.3462, 0.377 , 0.414 ],\n",
       "         [0.4385, 0.4385, 0.437 , ..., 0.4373, 0.4336, 0.4307]]]],\n",
       "      dtype=float16)"
      ]
     },
     "execution_count": 22,
     "metadata": {},
     "output_type": "execute_result"
    }
   ],
   "source": [
    "windu"
   ]
  },
  {
   "cell_type": "code",
   "execution_count": 23,
   "id": "18beb340",
   "metadata": {},
   "outputs": [
    {
     "data": {
      "text/plain": [
       "0.3557"
      ]
     },
     "execution_count": 23,
     "metadata": {},
     "output_type": "execute_result"
    }
   ],
   "source": [
    "windu.mean()"
   ]
  },
  {
   "cell_type": "code",
   "execution_count": 30,
   "id": "4c76b8ae",
   "metadata": {},
   "outputs": [
    {
     "data": {
      "text/plain": [
       "0.01056"
      ]
     },
     "execution_count": 30,
     "metadata": {},
     "output_type": "execute_result"
    }
   ],
   "source": [
    "windu[1,:,:,:].std()"
   ]
  },
  {
   "cell_type": "code",
   "execution_count": 25,
   "id": "1b10010f",
   "metadata": {},
   "outputs": [
    {
     "data": {
      "text/plain": [
       "99.8"
      ]
     },
     "execution_count": 25,
     "metadata": {},
     "output_type": "execute_result"
    }
   ],
   "source": [
    "windu.max()"
   ]
  },
  {
   "cell_type": "code",
   "execution_count": 26,
   "id": "7f6a4637",
   "metadata": {},
   "outputs": [
    {
     "data": {
      "text/plain": [
       "-94.2"
      ]
     },
     "execution_count": 26,
     "metadata": {},
     "output_type": "execute_result"
    }
   ],
   "source": [
    "windu.min()"
   ]
  },
  {
   "cell_type": "code",
   "execution_count": 37,
   "id": "e9ac8eee",
   "metadata": {},
   "outputs": [
    {
     "data": {
      "text/plain": [
       "Text(0, 0.5, 'mean wind speed m/s')"
      ]
     },
     "execution_count": 37,
     "metadata": {},
     "output_type": "execute_result"
    },
    {
     "data": {
      "image/png": "[encoded data removed]",
      "text/plain": [
       "<Figure size 640x480 with 1 Axes>"
      ]
     },
     "metadata": {},
     "output_type": "display_data"
    }
   ],
   "source": [
    "windu_mean_over_time = [ windu[x,0,:,:].mean() for x in range(601)]\n",
    "time = [x for x in range(601)]\n",
    "plt.plot(time, windu_mean_over_time)\n",
    "plt.title('Average wind at the bottom level over time')\n",
    "plt.xlabel('time steps')\n",
    "plt.ylabel('mean wind speed m/s')\n",
    "# windu_mean_over_time"
   ]
  },
  {
   "cell_type": "code",
   "execution_count": null,
   "id": "b4ab99b3",
   "metadata": {},
   "outputs": [],
   "source": [
    "windu_mean_over_time = [ windu[x,0,:,:].mean() for x in range(601)]\n",
    "time = [x for x in range(601)]\n",
    "plt.plot(time, windu_mean_over_time)\n",
    "plt.title('Average wind at the bottom level over time')\n",
    "plt.xlabel('time steps')\n",
    "plt.ylabel('mean wind speed m/s')"
   ]
  }
 ],
 "metadata": {
  "kernelspec": {
   "display_name": "Python 3 (ipykernel)",
   "language": "python",
   "name": "python3"
  },
  "language_info": {
   "codemirror_mode": {
    "name": "ipython",
    "version": 3
   },
   "file_extension": ".py",
   "mimetype": "text/x-python",
   "name": "python",
   "nbconvert_exporter": "python",
   "pygments_lexer": "ipython3",
   "version": "3.9.13"
  }
 },
 "nbformat": 4,
 "nbformat_minor": 5
}

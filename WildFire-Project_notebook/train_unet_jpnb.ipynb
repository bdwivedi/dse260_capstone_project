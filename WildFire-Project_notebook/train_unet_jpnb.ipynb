{
 "cells": [
  {
   "cell_type": "code",
   "execution_count": 3,
   "id": "05b95cf8-c42f-4ff8-8e17-dc6245c17441",
   "metadata": {
    "tags": []
   },
   "outputs": [],
   "source": [
    "from __future__ import unicode_literals, print_function, division\n",
    "import torch\n",
    "# import torch.nn as nn\n",
    "# import torch.optim as optim\n",
    "# import torch.nn.functional as F\n",
    "# import matplotlib.pyplot as plt\n",
    "import numpy as np\n",
    "# import pandas as pd\n",
    "from torch.utils import data\n",
    "# import itertools\n",
    "# import re\n",
    "# import random\n",
    "import datetime\n",
    "import time\n",
    "from models.unets import U_net\n",
    "# from torch.autograd import Variable\n",
    "# from penalty import DivergenceLoss\n",
    "from utils_unet import train_epoch, eval_epoch, test_epoch\n",
    "from data.dataset import IdealizedGrasslands"
   ]
  },
  {
   "cell_type": "code",
   "execution_count": 4,
   "id": "a4ccdc80-fccb-44b2-a321-eb6c80352b57",
   "metadata": {
    "tags": []
   },
   "outputs": [],
   "source": [
    "device = torch.device(\"cuda\" if torch.cuda.is_available() else \"cpu\")\n",
    "import warnings\n",
    "\n",
    "warnings.filterwarnings(\"ignore\")"
   ]
  },
  {
   "cell_type": "code",
   "execution_count": 5,
   "id": "785d681d-8c62-4950-ab32-e66f76f79d9f",
   "metadata": {
    "tags": []
   },
   "outputs": [],
   "source": [
    "# log to the file\n",
    "import logging\n",
    "\n",
    "logging.basicConfig(filename=f'training_{datetime.datetime.now().strftime(\"%Y_%m_%d_%H%M\")}.log',\n",
    "                    filemode='a',\n",
    "                    format='%(asctime)s,%(msecs)d %(name)s %(levelname)s %(message)s',\n",
    "                    datefmt='%H:%M:%S',\n",
    "                    level=logging.INFO)"
   ]
  },
  {
   "cell_type": "code",
   "execution_count": 6,
   "id": "66f97699-e551-4d20-b80f-543f5a611884",
   "metadata": {
    "tags": []
   },
   "outputs": [],
   "source": [
    "train_direc = \"/data/train/\"\n",
    "test_direc = \"/data/test/\"\n",
    "min_mse = 10\n",
    "output_length = 100\n",
    "input_length = 14\n",
    "learning_rate = 0.001\n",
    "dropout_rate = 0\n",
    "kernel_size = 3\n",
    "batch_size = 1"
   ]
  },
  {
   "cell_type": "code",
   "execution_count": 7,
   "id": "2dab3bf0-255b-4b3e-967e-8efb597a52d4",
   "metadata": {
    "tags": []
   },
   "outputs": [],
   "source": [
    "train_indices = list(range(0, 850))\n",
    "valid_indices = list(range(850, 950))\n",
    "test_indices = list(range(950, 1150))"
   ]
  },
  {
   "cell_type": "code",
   "execution_count": 8,
   "id": "d5e27c31-5c87-4d5b-8aa6-554ab5c173d8",
   "metadata": {
    "tags": []
   },
   "outputs": [
    {
     "name": "stdout",
     "output_type": "stream",
     "text": [
      "replacing ignite.dat with f385dbbe-f83c-44b0-af09-d8a4a4053fb2\n",
      "replacing ignite.dat with fb800452-282f-4afc-a992-509353ee1bde\n",
      "replacing ignite.dat with aae94409-6a1c-4923-aecc-791bef8d07cd\n",
      "replacing ignite.dat with d5abb2b7-f724-40dd-b442-b389f8daa399\n",
      "replacing ignite.dat with b7100311-fd7f-47ab-b5e3-db7ccd85b001\n",
      "Save ensemble to replace ignition file contents with new ids.\n",
      "replacing ignite.dat with 07d31121-3554-47c8-b958-b0edd28a61ef\n",
      "replacing ignite.dat with 44bc4869-e085-4e1c-ba0a-f44aeb681ee9\n",
      "replacing ignite.dat with 51af7c8b-4564-4d66-9a1f-156046add5e8\n",
      "replacing ignite.dat with dd1314b7-1c62-4aab-b581-b2aa4ffece8e\n",
      "replacing ignite.dat with f9f66590-15bd-429d-83c1-2d3d567aaa3f\n",
      "Save ensemble to replace ignition file contents with new ids.\n"
     ]
    }
   ],
   "source": [
    "model = U_net(input_channels=input_length, output_channels=1, kernel_size=kernel_size,\n",
    "              dropout_rate=dropout_rate).to(device)\n",
    "train_set = IdealizedGrasslands(train_indices, input_length, 15, output_length, train_direc)\n",
    "valid_set = IdealizedGrasslands(valid_indices, input_length, 15, output_length, test_direc)\n",
    "train_loader = data.DataLoader(train_set, batch_size=batch_size, shuffle=True, num_workers=8)\n",
    "valid_loader = data.DataLoader(valid_set, batch_size=batch_size, shuffle=False, num_workers=8)\n",
    "loss_fun = torch.nn.L1Loss()"
   ]
  },
  {
   "cell_type": "code",
   "execution_count": 9,
   "id": "4a2291fa-e796-4e4b-bea7-71c4879ffaf8",
   "metadata": {
    "tags": []
   },
   "outputs": [],
   "source": [
    "optimizer = torch.optim.Adam(model.parameters(), learning_rate, betas=(0.9, 0.999), weight_decay=4e-4)\n",
    "scheduler = torch.optim.lr_scheduler.StepLR(optimizer, step_size=1, gamma=0.9)"
   ]
  },
  {
   "cell_type": "code",
   "execution_count": 10,
   "id": "0fa19327-4c61-41ad-8794-046892586597",
   "metadata": {
    "tags": []
   },
   "outputs": [
    {
     "name": "stdout",
     "output_type": "stream",
     "text": [
      "start: 2023-02-26 20:33:41.668784\n",
      "Training epoch: 0\n",
      "Saving training epoch: 0\n",
      "end: 2023-02-26 20:40:10.216149\n",
      "0.00558 0.03671401 6.47579\n"
     ]
    }
   ],
   "source": [
    "train_mse = []\n",
    "valid_mse = []\n",
    "test_mse = []\n",
    "for i in range(1):\n",
    "    start = time.time()\n",
    "    print('start:', datetime.datetime.now())\n",
    "    print('Training epoch:', i)\n",
    "    logging.info(f'Start training epoch: {i}')\n",
    "    torch.cuda.empty_cache()\n",
    "    scheduler.step()\n",
    "    model.train()\n",
    "    teacher_force_ratio = np.maximum(0, 1 - i * 0.03)\n",
    "    train_mse.append(train_epoch(train_loader, model, optimizer, loss_fun, teacher_force_ratio))  #\n",
    "    model.eval()\n",
    "    mse, preds, trues = eval_epoch(valid_loader, model, loss_fun)\n",
    "    valid_mse.append(mse)\n",
    "    logging.info(f'Epoch {i}, MSE {valid_mse}')\n",
    "    if valid_mse[-1] < min_mse:\n",
    "        min_mse = valid_mse[-1]\n",
    "        best_model = model\n",
    "        print('Saving training epoch:', i)\n",
    "        logging.info(f'Saving training epoch: {i}')\n",
    "        torch.save(best_model, f\"unet_model.pth\")\n",
    "    end = time.time()\n",
    "    logging.info(f'End training epoch: {i}')\n",
    "    print('end:', datetime.datetime.now())\n",
    "    if len(train_mse) > 50 and np.mean(valid_mse[-5:]) >= np.mean(valid_mse[-10:-5]):\n",
    "        break\n",
    "    print(train_mse[-1], valid_mse[-1], round((end - start) / 60, 5))"
   ]
  },
  {
   "cell_type": "code",
   "execution_count": null,
   "id": "6cc115d1-aa96-4007-bc8a-d0b10945e05e",
   "metadata": {},
   "outputs": [],
   "source": []
  }
 ],
 "metadata": {
  "kernelspec": {
   "display_name": "Python 3 (ipykernel)",
   "language": "python",
   "name": "python3"
  },
  "language_info": {
   "codemirror_mode": {
    "name": "ipython",
    "version": 3
   },
   "file_extension": ".py",
   "mimetype": "text/x-python",
   "name": "python",
   "nbconvert_exporter": "python",
   "pygments_lexer": "ipython3",
   "version": "3.8.10"
  }
 },
 "nbformat": 4,
 "nbformat_minor": 5
}

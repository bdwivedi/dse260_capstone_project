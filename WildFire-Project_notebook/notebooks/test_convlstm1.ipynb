{
 "cells": [
  {
   "cell_type": "code",
   "execution_count": 1,
   "id": "6eb2a600-6cd5-4c27-9804-9bb3d8e0c3d9",
   "metadata": {
    "tags": []
   },
   "outputs": [
    {
     "name": "stderr",
     "output_type": "stream",
     "text": [
      "/usr/local/lib/python3.8/dist-packages/tqdm/auto.py:22: TqdmWarning: IProgress not found. Please update jupyter and ipywidgets. See https://ipywidgets.readthedocs.io/en/stable/user_install.html\n",
      "  from .autonotebook import tqdm as notebook_tqdm\n"
     ]
    }
   ],
   "source": [
    "import sys\n",
    "sys.path.append('../')\n",
    "\n",
    "from __future__ import unicode_literals, print_function, division\n",
    "import torch\n",
    "import torch.nn as nn\n",
    "import torch.optim as optim\n",
    "import torch.nn.functional as F\n",
    "import matplotlib.pyplot as plt\n",
    "import numpy as np\n",
    "import pandas as pd\n",
    "from torch.utils import data\n",
    "import itertools\n",
    "import re\n",
    "import random\n",
    "import datetime\n",
    "import time\n",
    "from models.convlstm_single import EncoderRNN, ConvLSTM\n",
    "from torch.autograd import Variable\n",
    "# from penalty import DivergenceLoss\n",
    "from utils_convlstm_single import train_epoch, eval_epoch, test_epoch\n",
    "from data.dataset import IdealizedGrasslands\n",
    "device = torch.device(\"cuda\" if torch.cuda.is_available() else \"cpu\")\n",
    "import warnings\n",
    "warnings.filterwarnings(\"ignore\")"
   ]
  },
  {
   "cell_type": "code",
   "execution_count": null,
   "id": "d4c1161f-fa23-4dce-8cd2-edb5fb6b6717",
   "metadata": {
    "tags": []
   },
   "outputs": [],
   "source": [
    "# # log to the file\n",
    "# import logging\n",
    "# file_name = 'convlstm'\n",
    "# logging.basicConfig(filename=f'test_{file_name}_{datetime.datetime.now().strftime(\"%Y_%m_%d_%H%M\")}.log',\n",
    "#                     filemode='a',\n",
    "#                     format='%(asctime)s,%(msecs)d %(name)s %(levelname)s %(message)s',\n",
    "#                     datefmt='%H:%M:%S',\n",
    "#                     level=logging.INFO)"
   ]
  },
  {
   "cell_type": "code",
   "execution_count": 2,
   "id": "c8846ffe-5458-428e-9ec2-d6790c68df40",
   "metadata": {
    "tags": []
   },
   "outputs": [],
   "source": [
    "train_direc = \"/data/train/\"\n",
    "test_direc = \"/data/test/\"\n",
    "\n",
    "min_mse=10\n",
    "output_length=40\n",
    "input_length=8\n",
    "learning_rate=0.001\n",
    "dropout_rate=0\n",
    "kernel_size=3\n",
    "batch_size=1"
   ]
  },
  {
   "cell_type": "code",
   "execution_count": 3,
   "id": "49868b3d-ba07-440a-a4e5-157a23f6f9cf",
   "metadata": {
    "tags": []
   },
   "outputs": [],
   "source": [
    "train_indices=list(range(0,800))\n",
    "valid_indices = list(range(800, 900))\n",
    "test_indices = list(range(900, 1000))\n",
    "loss_fun = torch.nn.L1Loss()"
   ]
  },
  {
   "cell_type": "code",
   "execution_count": 4,
   "id": "7d1c9c11-852c-42d9-938e-03e2b0ae92bf",
   "metadata": {
    "tags": []
   },
   "outputs": [],
   "source": [
    "best_model = torch.load('save_model/convlstm_model_single5.pth')\n"
   ]
  },
  {
   "cell_type": "code",
   "execution_count": 5,
   "id": "1089053f-b37e-4e82-b51b-4950a1fd4420",
   "metadata": {
    "tags": []
   },
   "outputs": [
    {
     "name": "stdout",
     "output_type": "stream",
     "text": [
      "replacing ignite.dat with 241a222c-dd5d-4a56-8b60-f34ad07e5c39\n",
      "replacing ignite.dat with ec232398-5986-4b46-b16b-ea4870f82a02\n",
      "replacing ignite.dat with c63a8707-3ef7-4f9a-8917-11d438b91a64\n",
      "replacing ignite.dat with 9e935fa2-4ea3-4ce8-8e3a-743aba924681\n",
      "replacing ignite.dat with f66c220b-8fa2-4f0b-bfe4-ab7a95dc27a7\n",
      "Save ensemble to replace ignition file contents with new ids.\n",
      "(100, 40, 1, 300, 300)\n",
      "(100, 40, 1, 300, 300)\n"
     ]
    }
   ],
   "source": [
    "test_set = IdealizedGrasslands(test_indices, input_length , 10, output_length, test_direc)\n",
    "test_loader = data.DataLoader(test_set, batch_size = batch_size, shuffle = False, num_workers = 8)\n",
    "preds, trues,loss_curve = test_epoch(test_loader, best_model, loss_fun)\n",
    "print(preds.shape)\n",
    "print(trues.shape)"
   ]
  },
  {
   "cell_type": "code",
   "execution_count": null,
   "id": "5c7f0354-f082-43a9-81eb-b055cfef954c",
   "metadata": {
    "tags": []
   },
   "outputs": [],
   "source": [
    "!ls \"save_model\""
   ]
  },
  {
   "cell_type": "code",
   "execution_count": 6,
   "id": "dedca5f4-a2b7-42b1-95be-acb167df72d9",
   "metadata": {
    "tags": []
   },
   "outputs": [],
   "source": [
    "torch.save({\"preds\": preds[:20],\n",
    "            \"trues\": trues[:20],\n",
    "            \"loss_curve\": loss_curve},\n",
    "            \"save_model/convlstm_results_single5.pt\")"
   ]
  },
  {
   "cell_type": "code",
   "execution_count": null,
   "id": "45100a96-bb01-4f64-8c28-534c20d4526d",
   "metadata": {},
   "outputs": [],
   "source": []
  }
 ],
 "metadata": {
  "kernelspec": {
   "display_name": "Python 3 (ipykernel)",
   "language": "python",
   "name": "python3"
  },
  "language_info": {
   "codemirror_mode": {
    "name": "ipython",
    "version": 3
   },
   "file_extension": ".py",
   "mimetype": "text/x-python",
   "name": "python",
   "nbconvert_exporter": "python",
   "pygments_lexer": "ipython3",
   "version": "3.8.10"
  }
 },
 "nbformat": 4,
 "nbformat_minor": 5
}

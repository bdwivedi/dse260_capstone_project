{
 "cells": [
  {
   "cell_type": "code",
   "execution_count": 1,
   "id": "3874e77a-c16a-4172-ae46-cf6fe8f72431",
   "metadata": {
    "tags": []
   },
   "outputs": [
    {
     "name": "stderr",
     "output_type": "stream",
     "text": [
      "/usr/local/lib/python3.8/dist-packages/tqdm/auto.py:22: TqdmWarning: IProgress not found. Please update jupyter and ipywidgets. See https://ipywidgets.readthedocs.io/en/stable/user_install.html\n",
      "  from .autonotebook import tqdm as notebook_tqdm\n"
     ]
    }
   ],
   "source": [
    "'''\n",
    "This file is to train convlstm with only fuel density as input\"\n",
    "'''\n",
    "\n",
    "import sys\n",
    "sys.path.append('../')\n",
    "\n",
    "from __future__ import unicode_literals, print_function, division\n",
    "import torch\n",
    "import torch.nn as nn\n",
    "import torch.optim as optim\n",
    "import torch.nn.functional as F\n",
    "import matplotlib.pyplot as plt\n",
    "import numpy as np\n",
    "import pandas as pd\n",
    "from torch.utils import data\n",
    "import itertools\n",
    "import re\n",
    "import random\n",
    "import datetime\n",
    "import time\n",
    "from models.convlstm_single import EncoderRNN, ConvLSTM\n",
    "from torch.autograd import Variable\n",
    "# from penalty import DivergenceLoss\n",
    "from utils_convlstm_single import train_epoch, eval_epoch, test_epoch\n",
    "from data.dataset import IdealizedGrasslands\n",
    "device = torch.device(\"cuda\" if torch.cuda.is_available() else \"cpu\")\n",
    "import warnings\n",
    "warnings.filterwarnings(\"ignore\")"
   ]
  },
  {
   "cell_type": "code",
   "execution_count": 2,
   "id": "f9dd50b1-8724-42de-86c2-00bcfe30fb82",
   "metadata": {
    "tags": []
   },
   "outputs": [],
   "source": [
    "# log to the file\n",
    "import logging\n",
    "file_name = 'convlstm'\n",
    "logging.basicConfig(filename=f'training_{file_name}_{datetime.datetime.now().strftime(\"%Y_%m_%d_%H%M\")}.log',\n",
    "                    filemode='a',\n",
    "                    format='%(asctime)s,%(msecs)d %(name)s %(levelname)s %(message)s',\n",
    "                    datefmt='%H:%M:%S',\n",
    "                    level=logging.INFO)"
   ]
  },
  {
   "cell_type": "code",
   "execution_count": 3,
   "id": "758658c7-b0fc-4a9f-afc8-90537db8b9db",
   "metadata": {
    "tags": []
   },
   "outputs": [],
   "source": [
    "train_direc = \"/data/train/\"\n",
    "test_direc = \"/data/test/\"\n",
    "\n",
    "min_mse=10\n",
    "output_length=40\n",
    "input_length=8\n",
    "learning_rate=0.001\n",
    "dropout_rate=0\n",
    "kernel_size=3\n",
    "batch_size=1"
   ]
  },
  {
   "cell_type": "code",
   "execution_count": 4,
   "id": "a2b01e0c-1807-4b96-994b-d676ed8d6ead",
   "metadata": {
    "tags": []
   },
   "outputs": [
    {
     "name": "stdout",
     "output_type": "stream",
     "text": [
      "layer  0 input dim  64  hidden dim  128\n",
      "layer  1 input dim  128  hidden dim  128\n",
      "layer  2 input dim  128  hidden dim  64\n",
      "replacing ignite.dat with b661ec09-0c4c-4769-9ff4-3068334de345\n",
      "replacing ignite.dat with 9c5fe558-748c-40f9-815d-314a3ebf2578\n",
      "replacing ignite.dat with 671f8a65-f3c3-48ba-83c0-1d66c32f9436\n",
      "replacing ignite.dat with 66a0e10a-57a1-46ed-bd52-996e4c59547e\n",
      "replacing ignite.dat with 77700f03-04c7-4352-8888-c4a6a3ed7d3c\n",
      "Save ensemble to replace ignition file contents with new ids.\n",
      "replacing ignite.dat with 9bcaa110-bf9f-4059-8bc0-0a755eb1e276\n",
      "replacing ignite.dat with 08da48fd-79ef-41c5-b824-9b120c439c47\n",
      "replacing ignite.dat with 9a0b5202-dabf-482f-a7b0-d6c222a8e1c6\n",
      "replacing ignite.dat with d760e634-1efa-4bb7-a78c-7708c40418a3\n",
      "replacing ignite.dat with cf20277a-1059-49ea-b84a-542f8a463297\n",
      "Save ensemble to replace ignition file contents with new ids.\n"
     ]
    }
   ],
   "source": [
    "train_indices=list(range(0,800))\n",
    "valid_indices = list(range(800, 900))\n",
    "test_indices = list(range(900, 1000))\n",
    "\n",
    "convcell =  ConvLSTM(input_shape=(75,75), input_dim=64, hidden_dims=[128,128,64], n_layers=3, kernel_size=(3,3), device=device)\n",
    "model= EncoderRNN(convcell,device=device).to(device)\n",
    "\n",
    "train_set = IdealizedGrasslands(train_indices, input_length , 10, output_length, train_direc)\n",
    "valid_set = IdealizedGrasslands(valid_indices, input_length , 10, output_length, test_direc)\n",
    "\n",
    "train_loader = data.DataLoader(train_set, batch_size = batch_size, shuffle = True, num_workers = 8)\n",
    "valid_loader = data.DataLoader(valid_set, batch_size = batch_size, shuffle = False, num_workers = 8)\n",
    "loss_fun = torch.nn.L1Loss()"
   ]
  },
  {
   "cell_type": "code",
   "execution_count": 5,
   "id": "dabdcee2-c83d-4613-aed2-18a380906826",
   "metadata": {
    "tags": []
   },
   "outputs": [],
   "source": [
    "optimizer = torch.optim.Adam(model.parameters(), learning_rate, betas = (0.9, 0.999), weight_decay = 4e-4)\n",
    "scheduler = torch.optim.lr_scheduler.StepLR(optimizer, step_size = 1, gamma = 0.9)"
   ]
  },
  {
   "cell_type": "code",
   "execution_count": 7,
   "id": "fe5dd593-b0d8-495f-8255-2947fffb3405",
   "metadata": {
    "tags": []
   },
   "outputs": [
    {
     "name": "stdout",
     "output_type": "stream",
     "text": [
      "0.01208 0.05265137 7.7681\n",
      "0.00189 0.04943408 7.72448\n",
      "0.00197 0.04879171 7.78048\n",
      "0.00249 0.04895181 7.86729\n",
      "0.00342 0.04839975 7.80603\n",
      "0.00349 0.04841968 7.67049\n",
      "0.00349 0.04476195 7.62898\n",
      "0.00474 0.04810971 7.64626\n",
      "0.00592 0.04802874 7.7186\n",
      "0.00548 0.04051183 7.73074\n",
      "0.00584 0.04640217 7.82048\n",
      "0.00624 0.04286183 7.82547\n",
      "0.00636 0.03955579 7.83275\n",
      "0.00687 0.04046823 7.82742\n",
      "0.00665 0.03644212 7.84235\n",
      "0.00654 0.03362858 7.8186\n",
      "0.00678 0.03092144 7.88467\n",
      "0.00682 0.02861 7.83825\n",
      "0.00671 0.02776322 7.96012\n",
      "0.00651 0.02585985 7.93148\n",
      "0.00674 0.02506025 7.97265\n",
      "0.00683 0.02373843 8.05226\n",
      "0.00678 0.02377281 7.81293\n",
      "0.00689 0.02301344 7.97625\n",
      "0.00734 0.02428049 7.89866\n",
      "0.00728 0.02151641 7.82364\n",
      "0.00747 0.0229181 9.03346\n",
      "0.0075 0.02058036 9.32566\n",
      "0.00734 0.01979316 9.2015\n",
      "0.00766 0.02001058 9.72328\n",
      "0.00769 0.01855109 9.71497\n",
      "0.00765 0.01743261 9.50988\n",
      "0.00772 0.01828089 9.3817\n",
      "0.00779 0.01787104 9.47292\n",
      "0.0077 0.01754435 9.30148\n",
      "0.00759 0.01721784 9.4599\n",
      "0.00749 0.0156439 9.18827\n",
      "0.00734 0.01764514 8.66813\n",
      "0.00725 0.01608622 8.41507\n",
      "0.00718 0.01472694 8.16527\n",
      "0.00707 0.01674015 7.85623\n",
      "0.00707 0.016579 7.78618\n",
      "0.00698 0.01538547 7.66369\n",
      "0.00691 0.01591217 7.72166\n",
      "0.0069 0.01486162 7.7968\n",
      "0.00684 0.01492811 7.78309\n",
      "0.00682 0.01452122 7.72881\n",
      "0.00679 0.01500112 7.67125\n",
      "0.00674 0.01482266 7.74497\n",
      "0.0067 0.01524531 7.74643\n"
     ]
    }
   ],
   "source": [
    "train_mse = []\n",
    "valid_mse = []\n",
    "test_mse = []\n",
    "for i in range(50):\n",
    "    start = time.time()\n",
    "    logging.info(f'Start training epoch: {i}')\n",
    "    torch.cuda.empty_cache()\n",
    "    scheduler.step()\n",
    "    model.train()\n",
    "    teacher_force_ratio=np.maximum(0, 1 - i * 0.03)\n",
    "    train_mse.append(train_epoch(train_loader, model, optimizer, loss_fun,teacher_force_ratio))\n",
    "    model.eval()\n",
    "    mse, preds, trues = eval_epoch(valid_loader, model, loss_fun)\n",
    "    valid_mse.append(mse)\n",
    "    if valid_mse[-1] < min_mse:\n",
    "        min_mse = valid_mse[-1]\n",
    "        best_model = model\n",
    "        logging.info(f'Saving training epoch: {i}')\n",
    "        torch.save(best_model, \"save_model/convlstm_model_single5.pth\")\n",
    "    end = time.time()\n",
    "    logging.info(f'End training epoch: {i}')\n",
    "    if (len(train_mse) > 50 and np.mean(valid_mse[-5:]) >= np.mean(valid_mse[-10:-5])):\n",
    "            break\n",
    "    print(train_mse[-1], valid_mse[-1], round((end-start)/60,5))\n",
    "    logging.info(f'Train MSE: {train_mse[-1]}, Val MSE :{valid_mse[-1]}, Train time:{round((end-start)/60,5)}')"
   ]
  },
  {
   "cell_type": "code",
   "execution_count": null,
   "id": "7f681457-cca7-4f68-abae-614bdf4f62dc",
   "metadata": {
    "tags": []
   },
   "outputs": [],
   "source": []
  },
  {
   "cell_type": "code",
   "execution_count": null,
   "id": "7f77cf2f-0778-4f1a-8eb9-f7974eafa9b9",
   "metadata": {},
   "outputs": [],
   "source": []
  }
 ],
 "metadata": {
  "kernelspec": {
   "display_name": "Python 3 (ipykernel)",
   "language": "python",
   "name": "python3"
  },
  "language_info": {
   "codemirror_mode": {
    "name": "ipython",
    "version": 3
   },
   "file_extension": ".py",
   "mimetype": "text/x-python",
   "name": "python",
   "nbconvert_exporter": "python",
   "pygments_lexer": "ipython3",
   "version": "3.8.10"
  }
 },
 "nbformat": 4,
 "nbformat_minor": 5
}
